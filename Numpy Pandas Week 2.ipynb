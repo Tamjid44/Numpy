{
 "cells": [
  {
   "cell_type": "code",
   "execution_count": null,
   "id": "35681b9d-f3bf-43fb-bd38-ef604d72b7c6",
   "metadata": {},
   "outputs": [],
   "source": [
    "import pandas as pd\n",
    "import numpy as np\n",
    "\n",
    "df = pd.DataFrame({\n",
    "    'A': [1, 2, np.nan],\n",
    "    'B': [np.nan, 5, 6]\n",
    "})\n",
    "\n",
    "print(df.isna())"
   ]
  },
  {
   "cell_type": "code",
   "execution_count": null,
   "id": "0e1a02fa-4213-4d3b-9489-e618d469f23a",
   "metadata": {},
   "outputs": [],
   "source": [
    "import pandas as pd\n",
    "import numpy as np\n",
    "\n",
    "df = pd.DataFrame({\n",
    "    'A': [1, 2, np.nan],\n",
    "    'B': [np.nan, 5, 6]\n",
    "})\n",
    "\n",
    "print(df.notnull())"
   ]
  },
  {
   "cell_type": "code",
   "execution_count": null,
   "id": "2ff5d4e0-1cf5-468a-bab2-e316eb6b611a",
   "metadata": {},
   "outputs": [],
   "source": [
    "import pandas as pd\n",
    "import numpy as np\n",
    "\n",
    "df = pd.DataFrame({\n",
    "    'A': [1, 2, np.nan],\n",
    "    'B': [np.nan, 5, 6]\n",
    "})\n",
    "print(df.dropna(axis=0))"
   ]
  },
  {
   "cell_type": "code",
   "execution_count": null,
   "id": "4fbe56ec-4a80-4ee7-b940-b30876297d06",
   "metadata": {},
   "outputs": [],
   "source": [
    "import pandas as pd\n",
    "import numpy as np\n",
    "\n",
    "df = pd.DataFrame({\n",
    "    'A': [1, 2, np.nan],\n",
    "    'B': [np.nan, 5, 6]\n",
    "})\n",
    "print(df.dropna(axis=1))"
   ]
  },
  {
   "cell_type": "code",
   "execution_count": null,
   "id": "235c30f9-0da4-4a93-8cbf-18b06de56214",
   "metadata": {},
   "outputs": [],
   "source": [
    "import pandas as pd\n",
    "import numpy as np\n",
    "\n",
    "df = pd.DataFrame({\n",
    "    'A': [1, 2, np.nan],\n",
    "    'B': [np.nan, 5, 6]\n",
    "})\n",
    "print(df.dropna(thresh=2))"
   ]
  },
  {
   "cell_type": "code",
   "execution_count": null,
   "id": "4912c842-d95a-456a-a051-04cadccf2c87",
   "metadata": {},
   "outputs": [],
   "source": [
    "import pandas as pd\n",
    "import numpy as np\n",
    "\n",
    "df = pd.DataFrame({\n",
    "    'A': [1, 2, np.nan],\n",
    "    'B': [np.nan, 5, 6]\n",
    "})\n",
    "print(df.dropna(subset=['B']))"
   ]
  },
  {
   "cell_type": "code",
   "execution_count": null,
   "id": "e4d7c50d-66d1-47cc-a453-efc84c2a93e7",
   "metadata": {},
   "outputs": [],
   "source": [
    "import pandas as pd\n",
    "import numpy as np\n",
    "\n",
    "df = pd.DataFrame({\n",
    "    'A': [1, 2, np.nan,0.5],\n",
    "    'B': [np.nan, 5, 6,1]\n",
    "})\n",
    "print(df.dropna().sort_values(by='B'))\n"
   ]
  },
  {
   "cell_type": "code",
   "execution_count": null,
   "id": "be590bee-7f44-4e4d-81e2-f0dee13651ad",
   "metadata": {},
   "outputs": [],
   "source": [
    "import pandas as pd\n",
    "import numpy as np\n",
    "\n",
    "df = pd.DataFrame({\n",
    "    'A': [3, 1, 2, np.nan],\n",
    "    'B': [7, 9, 8, 6]\n",
    "})\n",
    "print(df.dropna().sort_values(by='A').reset_index(drop=True))"
   ]
  },
  {
   "cell_type": "code",
   "execution_count": null,
   "id": "d1565621-e205-43d5-bc5c-00a628eb5e58",
   "metadata": {},
   "outputs": [],
   "source": [
    "import numpy as np\n",
    "import pandas as pd\n",
    "df = pd.DataFrame({\n",
    "    'A': [3, 1, 2, np.nan],\n",
    "    'B': [7, np.nan, 8, 6]\n",
    "})\n",
    "df.fillna({'A': 0, 'B': 99})"
   ]
  },
  {
   "cell_type": "code",
   "execution_count": null,
   "id": "ca002794-1b6f-40d0-8079-c98125dda47f",
   "metadata": {},
   "outputs": [],
   "source": [
    "import pandas as pd\n",
    "import numpy as np\n",
    "\n",
    "df = pd.DataFrame({\n",
    "    'A': [3, 1, 2, np.nan],\n",
    "    'B': [7, np.nan, 8, 6]\n",
    "})\n",
    "print(df.fillna(method='ffill'))\n",
    "print(df.fillna(method='bfill'))"
   ]
  },
  {
   "cell_type": "code",
   "execution_count": null,
   "id": "a4419435-d6ca-438b-9326-7a383b476a6e",
   "metadata": {},
   "outputs": [],
   "source": [
    "import pandas as pd\n",
    "import numpy as np\n",
    "\n",
    "df = pd.DataFrame({\n",
    "    'A': [3, 1, 2, np.nan],\n",
    "    'B': [7, np.nan, 8, 6]\n",
    "})\n",
    "print(df[df.isnull().any(axis=1)])  # Show rows with any NaN\n",
    "print(df[df.isnull().all(axis=1)]) # Rows with all NaN"
   ]
  },
  {
   "cell_type": "code",
   "execution_count": null,
   "id": "665480f0-b91b-45bc-94df-960491bda90c",
   "metadata": {},
   "outputs": [],
   "source": []
  }
 ],
 "metadata": {
  "kernelspec": {
   "display_name": "Python [conda env:base] *",
   "language": "python",
   "name": "conda-base-py"
  },
  "language_info": {
   "codemirror_mode": {
    "name": "ipython",
    "version": 3
   },
   "file_extension": ".py",
   "mimetype": "text/x-python",
   "name": "python",
   "nbconvert_exporter": "python",
   "pygments_lexer": "ipython3",
   "version": "3.12.7"
  }
 },
 "nbformat": 4,
 "nbformat_minor": 5
}
