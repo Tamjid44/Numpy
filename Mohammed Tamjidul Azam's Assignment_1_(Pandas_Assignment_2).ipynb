{
  "cells": [
    {
      "cell_type": "markdown",
      "metadata": {
        "collapsed": true,
        "id": "bQQiUSk0ij9L"
      },
      "source": [
        "Hi Guys,<br>\n",
        "Welcome back to the pandas essentials, now we are going to talk about the missing data!<br>\n",
        "## Handling Missing Data\n",
        "Missing data is very common in many data analysis applications. pandas has a great ability to deal with the missing data. <br>Let's learn some convenient methods to deal with **missing data in pandas**:<br>\n",
        "\n",
        "* isnull(), isna(), notnull(), dropna(), fillna(),"
      ]
    },
    {
      "cell_type": "code",
      "execution_count": null,
      "metadata": {
        "id": "fKa15amBij9O"
      },
      "outputs": [],
      "source": [
        "import numpy as np\n",
        "import pandas as pd"
      ]
    },
    {
      "cell_type": "markdown",
      "metadata": {
        "id": "I3T0vwoBij9P"
      },
      "source": [
        "Creating ad dataframe with missing data"
      ]
    },
    {
      "cell_type": "code",
      "execution_count": null,
      "metadata": {
        "id": "t1OJP0KNij9Q"
      },
      "outputs": [],
      "source": [
        "data_dic = {'M':[1,2,np.nan,4,np.nan],\n",
        "            'N':[11,12,13,14,15],\n",
        "            'O':[np.nan,np.nan,np.nan,np.nan,np.nan],\n",
        "            'P':[16,np.nan,18,19,20]}\n",
        "df = pd.DataFrame(data_dic) # dataframe from a dic."
      ]
    },
    {
      "cell_type": "code",
      "execution_count": null,
      "metadata": {
        "id": "qDA5IC92ij9Q",
        "outputId": "f668504d-37d8-42a0-e548-50693c9cd4f7"
      },
      "outputs": [
        {
          "data": {
            "text/html": [
              "<div>\n",
              "<style scoped>\n",
              "    .dataframe tbody tr th:only-of-type {\n",
              "        vertical-align: middle;\n",
              "    }\n",
              "\n",
              "    .dataframe tbody tr th {\n",
              "        vertical-align: top;\n",
              "    }\n",
              "\n",
              "    .dataframe thead th {\n",
              "        text-align: right;\n",
              "    }\n",
              "</style>\n",
              "<table border=\"1\" class=\"dataframe\">\n",
              "  <thead>\n",
              "    <tr style=\"text-align: right;\">\n",
              "      <th></th>\n",
              "      <th>M</th>\n",
              "      <th>N</th>\n",
              "      <th>O</th>\n",
              "      <th>P</th>\n",
              "    </tr>\n",
              "  </thead>\n",
              "  <tbody>\n",
              "    <tr>\n",
              "      <th>0</th>\n",
              "      <td>1.0</td>\n",
              "      <td>11</td>\n",
              "      <td>NaN</td>\n",
              "      <td>16.0</td>\n",
              "    </tr>\n",
              "    <tr>\n",
              "      <th>1</th>\n",
              "      <td>2.0</td>\n",
              "      <td>12</td>\n",
              "      <td>NaN</td>\n",
              "      <td>NaN</td>\n",
              "    </tr>\n",
              "    <tr>\n",
              "      <th>2</th>\n",
              "      <td>NaN</td>\n",
              "      <td>13</td>\n",
              "      <td>NaN</td>\n",
              "      <td>18.0</td>\n",
              "    </tr>\n",
              "    <tr>\n",
              "      <th>3</th>\n",
              "      <td>4.0</td>\n",
              "      <td>14</td>\n",
              "      <td>NaN</td>\n",
              "      <td>19.0</td>\n",
              "    </tr>\n",
              "    <tr>\n",
              "      <th>4</th>\n",
              "      <td>NaN</td>\n",
              "      <td>15</td>\n",
              "      <td>NaN</td>\n",
              "      <td>20.0</td>\n",
              "    </tr>\n",
              "  </tbody>\n",
              "</table>\n",
              "</div>"
            ],
            "text/plain": [
              "     M   N   O     P\n",
              "0  1.0  11 NaN  16.0\n",
              "1  2.0  12 NaN   NaN\n",
              "2  NaN  13 NaN  18.0\n",
              "3  4.0  14 NaN  19.0\n",
              "4  NaN  15 NaN  20.0"
            ]
          },
          "execution_count": 3,
          "metadata": {},
          "output_type": "execute_result"
        }
      ],
      "source": [
        "df"
      ]
    },
    {
      "cell_type": "markdown",
      "metadata": {
        "id": "WRdGS6Y_ij9R"
      },
      "source": [
        "\n",
        "**Check for missing data in the dataset!**"
      ]
    },
    {
      "cell_type": "code",
      "execution_count": 2,
      "metadata": {
        "colab": {
          "base_uri": "https://localhost:8080/"
        },
        "id": "fCZA3uUAij9R",
        "outputId": "4edacda3-3749-450a-8dc3-725ed6060b83"
      },
      "outputs": [
        {
          "output_type": "stream",
          "name": "stdout",
          "text": [
            "       M      N     O      P\n",
            "0  False  False  True  False\n",
            "1  False  False  True   True\n",
            "2   True  False  True  False\n",
            "3  False  False  True  False\n",
            "4   True  False  True  False\n"
          ]
        }
      ],
      "source": [
        "#code here\n",
        "import numpy as np\n",
        "import pandas as pd\n",
        "data_dic = {'M':[1,2,np.nan,4,np.nan],\n",
        "            'N':[11,12,13,14,15],\n",
        "            'O':[np.nan,np.nan,np.nan,np.nan,np.nan],\n",
        "            'P':[16,np.nan,18,19,20]}\n",
        "df = pd.DataFrame(data_dic)\n",
        "df = df.isna()\n",
        "print(df)"
      ]
    },
    {
      "cell_type": "code",
      "execution_count": null,
      "metadata": {
        "id": "BloFFnmLij9R",
        "outputId": "bfc2d6d7-6f0f-4ad6-8db5-cddb7108e5fc"
      },
      "outputs": [
        {
          "data": {
            "text/html": [
              "<div>\n",
              "<style scoped>\n",
              "    .dataframe tbody tr th:only-of-type {\n",
              "        vertical-align: middle;\n",
              "    }\n",
              "\n",
              "    .dataframe tbody tr th {\n",
              "        vertical-align: top;\n",
              "    }\n",
              "\n",
              "    .dataframe thead th {\n",
              "        text-align: right;\n",
              "    }\n",
              "</style>\n",
              "<table border=\"1\" class=\"dataframe\">\n",
              "  <thead>\n",
              "    <tr style=\"text-align: right;\">\n",
              "      <th></th>\n",
              "      <th>M</th>\n",
              "      <th>N</th>\n",
              "      <th>O</th>\n",
              "      <th>P</th>\n",
              "    </tr>\n",
              "  </thead>\n",
              "  <tbody>\n",
              "    <tr>\n",
              "      <th>0</th>\n",
              "      <td>False</td>\n",
              "      <td>False</td>\n",
              "      <td>True</td>\n",
              "      <td>False</td>\n",
              "    </tr>\n",
              "    <tr>\n",
              "      <th>1</th>\n",
              "      <td>False</td>\n",
              "      <td>False</td>\n",
              "      <td>True</td>\n",
              "      <td>True</td>\n",
              "    </tr>\n",
              "    <tr>\n",
              "      <th>2</th>\n",
              "      <td>True</td>\n",
              "      <td>False</td>\n",
              "      <td>True</td>\n",
              "      <td>False</td>\n",
              "    </tr>\n",
              "    <tr>\n",
              "      <th>3</th>\n",
              "      <td>False</td>\n",
              "      <td>False</td>\n",
              "      <td>True</td>\n",
              "      <td>False</td>\n",
              "    </tr>\n",
              "    <tr>\n",
              "      <th>4</th>\n",
              "      <td>True</td>\n",
              "      <td>False</td>\n",
              "      <td>True</td>\n",
              "      <td>False</td>\n",
              "    </tr>\n",
              "  </tbody>\n",
              "</table>\n",
              "</div>"
            ],
            "text/plain": [
              "       M      N     O      P\n",
              "0  False  False  True  False\n",
              "1  False  False  True   True\n",
              "2   True  False  True  False\n",
              "3  False  False  True  False\n",
              "4   True  False  True  False"
            ]
          },
          "execution_count": 4,
          "metadata": {},
          "output_type": "execute_result"
        }
      ],
      "source": []
    },
    {
      "cell_type": "code",
      "execution_count": 3,
      "metadata": {
        "colab": {
          "base_uri": "https://localhost:8080/"
        },
        "id": "MVTeHJleij9R",
        "outputId": "e12846a0-dbd8-465d-b385-6180af4e8d13"
      },
      "outputs": [
        {
          "output_type": "stream",
          "name": "stdout",
          "text": [
            "M    2\n",
            "N    0\n",
            "O    5\n",
            "P    1\n",
            "dtype: int64\n"
          ]
        }
      ],
      "source": [
        "#code here\n",
        "import numpy as np\n",
        "import pandas as pd\n",
        "data_dic = {'M':[1,2,np.nan,4,np.nan],\n",
        "            'N':[11,12,13,14,15],\n",
        "            'O':[np.nan,np.nan,np.nan,np.nan,np.nan],\n",
        "            'P':[16,np.nan,18,19,20]}\n",
        "df = pd.DataFrame(data_dic)\n",
        "sum = df.isna().sum()\n",
        "print(sum)"
      ]
    },
    {
      "cell_type": "code",
      "execution_count": null,
      "metadata": {
        "id": "tmfYs6yrij9R",
        "outputId": "617138f7-5492-41f2-b6e4-4ad688bd2167"
      },
      "outputs": [
        {
          "data": {
            "text/plain": [
              "M    2\n",
              "N    0\n",
              "O    5\n",
              "P    1\n",
              "dtype: int64"
            ]
          },
          "execution_count": 5,
          "metadata": {},
          "output_type": "execute_result"
        }
      ],
      "source": []
    },
    {
      "cell_type": "code",
      "execution_count": 6,
      "metadata": {
        "colab": {
          "base_uri": "https://localhost:8080/"
        },
        "id": "zKSCcc2uij9S",
        "outputId": "cf65bd19-2d7b-4f68-eaf6-c91397086f71"
      },
      "outputs": [
        {
          "output_type": "stream",
          "name": "stdout",
          "text": [
            "8\n"
          ]
        }
      ],
      "source": [
        "#code here\n",
        "import numpy as np\n",
        "import pandas as pd\n",
        "data_dic = {'M':[1,2,np.nan,4,np.nan],\n",
        "            'N':[11,12,13,14,15],\n",
        "            'O':[np.nan,np.nan,np.nan,np.nan,np.nan],\n",
        "            'P':[16,np.nan,18,19,20]}\n",
        "df = pd.DataFrame(data_dic)\n",
        "print(df.isna().sum().sum())"
      ]
    },
    {
      "cell_type": "code",
      "execution_count": null,
      "metadata": {
        "id": "pmIWAJhaij9S",
        "outputId": "a8545f79-5211-4978-df8c-f9d7704099d5"
      },
      "outputs": [
        {
          "data": {
            "text/plain": [
              "8"
            ]
          },
          "execution_count": 6,
          "metadata": {},
          "output_type": "execute_result"
        }
      ],
      "source": []
    },
    {
      "cell_type": "markdown",
      "metadata": {
        "id": "fsNWzYvnij9S"
      },
      "source": [
        "**fill the null value with N**"
      ]
    },
    {
      "cell_type": "code",
      "execution_count": 7,
      "metadata": {
        "colab": {
          "base_uri": "https://localhost:8080/"
        },
        "id": "Lp5uAJVMij9S",
        "outputId": "be1533b7-e548-4b5c-f633-5cd9123fec64"
      },
      "outputs": [
        {
          "output_type": "stream",
          "name": "stdout",
          "text": [
            "     M   N  O     P\n",
            "0  1.0  11  N  16.0\n",
            "1  2.0  12  N     N\n",
            "2    N  13  N  18.0\n",
            "3  4.0  14  N  19.0\n",
            "4    N  15  N  20.0\n"
          ]
        }
      ],
      "source": [
        "#code here\n",
        "import numpy as np\n",
        "import pandas as pd\n",
        "data_dic = {'M':[1,2,np.nan,4,np.nan],\n",
        "            'N':[11,12,13,14,15],\n",
        "            'O':[np.nan,np.nan,np.nan,np.nan,np.nan],\n",
        "            'P':[16,np.nan,18,19,20]}\n",
        "df = pd.DataFrame(data_dic)\n",
        "df = df.fillna('N')\n",
        "print(df)"
      ]
    },
    {
      "cell_type": "code",
      "execution_count": null,
      "metadata": {
        "id": "tBj9ZP_iij9T",
        "outputId": "6a04908c-8831-4b53-9413-dee40234393e"
      },
      "outputs": [
        {
          "data": {
            "text/html": [
              "<div>\n",
              "<style scoped>\n",
              "    .dataframe tbody tr th:only-of-type {\n",
              "        vertical-align: middle;\n",
              "    }\n",
              "\n",
              "    .dataframe tbody tr th {\n",
              "        vertical-align: top;\n",
              "    }\n",
              "\n",
              "    .dataframe thead th {\n",
              "        text-align: right;\n",
              "    }\n",
              "</style>\n",
              "<table border=\"1\" class=\"dataframe\">\n",
              "  <thead>\n",
              "    <tr style=\"text-align: right;\">\n",
              "      <th></th>\n",
              "      <th>M</th>\n",
              "      <th>N</th>\n",
              "      <th>O</th>\n",
              "      <th>P</th>\n",
              "    </tr>\n",
              "  </thead>\n",
              "  <tbody>\n",
              "    <tr>\n",
              "      <th>0</th>\n",
              "      <td>1.0</td>\n",
              "      <td>11</td>\n",
              "      <td>N</td>\n",
              "      <td>16.0</td>\n",
              "    </tr>\n",
              "    <tr>\n",
              "      <th>1</th>\n",
              "      <td>2.0</td>\n",
              "      <td>12</td>\n",
              "      <td>N</td>\n",
              "      <td>N</td>\n",
              "    </tr>\n",
              "    <tr>\n",
              "      <th>2</th>\n",
              "      <td>N</td>\n",
              "      <td>13</td>\n",
              "      <td>N</td>\n",
              "      <td>18.0</td>\n",
              "    </tr>\n",
              "    <tr>\n",
              "      <th>3</th>\n",
              "      <td>4.0</td>\n",
              "      <td>14</td>\n",
              "      <td>N</td>\n",
              "      <td>19.0</td>\n",
              "    </tr>\n",
              "    <tr>\n",
              "      <th>4</th>\n",
              "      <td>N</td>\n",
              "      <td>15</td>\n",
              "      <td>N</td>\n",
              "      <td>20.0</td>\n",
              "    </tr>\n",
              "  </tbody>\n",
              "</table>\n",
              "</div>"
            ],
            "text/plain": [
              "     M   N  O     P\n",
              "0  1.0  11  N  16.0\n",
              "1  2.0  12  N     N\n",
              "2    N  13  N  18.0\n",
              "3  4.0  14  N  19.0\n",
              "4    N  15  N  20.0"
            ]
          },
          "execution_count": 11,
          "metadata": {},
          "output_type": "execute_result"
        }
      ],
      "source": []
    },
    {
      "cell_type": "markdown",
      "metadata": {
        "id": "oObxDEi7ij9T"
      },
      "source": [
        "**fill the null values using mean of the column M.**"
      ]
    },
    {
      "cell_type": "code",
      "execution_count": 11,
      "metadata": {
        "colab": {
          "base_uri": "https://localhost:8080/"
        },
        "id": "z5ik0jFRij9T",
        "outputId": "7baced98-1323-4150-ce29-e061ba935a25"
      },
      "outputs": [
        {
          "output_type": "stream",
          "name": "stdout",
          "text": [
            "0    1.000000\n",
            "1    2.000000\n",
            "2    2.333333\n",
            "3    4.000000\n",
            "4    2.333333\n",
            "Name: M, dtype: float64\n"
          ]
        }
      ],
      "source": [
        "#code here\n",
        "import numpy as np\n",
        "import pandas as pd\n",
        "data_dic = {'M':[1,2,np.nan,4,np.nan],\n",
        "            'N':[11,12,13,14,15],\n",
        "            'O':[np.nan,np.nan,np.nan,np.nan,np.nan],\n",
        "            'P':[16,np.nan,18,19,20]}\n",
        "df = pd.DataFrame(data_dic)\n",
        "df['M'] = df['M'].fillna(df['M'].mean())\n",
        "print(df['M'])"
      ]
    },
    {
      "cell_type": "code",
      "execution_count": null,
      "metadata": {
        "id": "v9oU1s0bij9T",
        "outputId": "aca958fa-5095-4ff0-c5be-c2e452d94758"
      },
      "outputs": [
        {
          "data": {
            "text/plain": [
              "0    1.000000\n",
              "1    2.000000\n",
              "2    2.333333\n",
              "3    4.000000\n",
              "4    2.333333\n",
              "Name: M, dtype: float64"
            ]
          },
          "execution_count": 13,
          "metadata": {},
          "output_type": "execute_result"
        }
      ],
      "source": []
    },
    {
      "cell_type": "code",
      "source": [
        "import numpy as np\n",
        "import pandas as pd\n",
        "data_dic = {'M':[1,2,np.nan,4,np.nan],\n",
        "            'N':[11,12,13,14,15],\n",
        "            'O':[np.nan,np.nan,np.nan,np.nan,np.nan],\n",
        "            'P':[16,np.nan,18,19,20]}\n",
        "df = pd.DataFrame(data_dic)\n",
        "df = df[['M', 'O', 'N', 'P']]\n",
        "df.columns = ['A', 'B', 'C', 'D']\n",
        "print(df)"
      ],
      "metadata": {
        "colab": {
          "base_uri": "https://localhost:8080/"
        },
        "id": "58flswgYkxvT",
        "outputId": "909c6f9a-8aa1-45dd-842f-c013f7859ffe"
      },
      "execution_count": 13,
      "outputs": [
        {
          "output_type": "stream",
          "name": "stdout",
          "text": [
            "     A   B   C     D\n",
            "0  1.0 NaN  11  16.0\n",
            "1  2.0 NaN  12   NaN\n",
            "2  NaN NaN  13  18.0\n",
            "3  4.0 NaN  14  19.0\n",
            "4  NaN NaN  15  20.0\n"
          ]
        }
      ]
    },
    {
      "cell_type": "code",
      "execution_count": null,
      "metadata": {
        "id": "-A6TfFYsij9T",
        "outputId": "38a28d66-3e8b-4d55-d6d2-51b8fcc418c7"
      },
      "outputs": [
        {
          "data": {
            "text/html": [
              "<div>\n",
              "<style scoped>\n",
              "    .dataframe tbody tr th:only-of-type {\n",
              "        vertical-align: middle;\n",
              "    }\n",
              "\n",
              "    .dataframe tbody tr th {\n",
              "        vertical-align: top;\n",
              "    }\n",
              "\n",
              "    .dataframe thead th {\n",
              "        text-align: right;\n",
              "    }\n",
              "</style>\n",
              "<table border=\"1\" class=\"dataframe\">\n",
              "  <thead>\n",
              "    <tr style=\"text-align: right;\">\n",
              "      <th></th>\n",
              "      <th>A</th>\n",
              "      <th>B</th>\n",
              "      <th>C</th>\n",
              "      <th>D</th>\n",
              "    </tr>\n",
              "  </thead>\n",
              "  <tbody>\n",
              "    <tr>\n",
              "      <th>0</th>\n",
              "      <td>1.0</td>\n",
              "      <td>NaN</td>\n",
              "      <td>11</td>\n",
              "      <td>16.0</td>\n",
              "    </tr>\n",
              "    <tr>\n",
              "      <th>1</th>\n",
              "      <td>2.0</td>\n",
              "      <td>NaN</td>\n",
              "      <td>12</td>\n",
              "      <td>NaN</td>\n",
              "    </tr>\n",
              "    <tr>\n",
              "      <th>2</th>\n",
              "      <td>NaN</td>\n",
              "      <td>NaN</td>\n",
              "      <td>13</td>\n",
              "      <td>18.0</td>\n",
              "    </tr>\n",
              "    <tr>\n",
              "      <th>3</th>\n",
              "      <td>4.0</td>\n",
              "      <td>NaN</td>\n",
              "      <td>14</td>\n",
              "      <td>19.0</td>\n",
              "    </tr>\n",
              "    <tr>\n",
              "      <th>4</th>\n",
              "      <td>NaN</td>\n",
              "      <td>NaN</td>\n",
              "      <td>15</td>\n",
              "      <td>20.0</td>\n",
              "    </tr>\n",
              "  </tbody>\n",
              "</table>\n",
              "</div>"
            ],
            "text/plain": [
              "     A   B   C     D\n",
              "0  1.0 NaN  11  16.0\n",
              "1  2.0 NaN  12   NaN\n",
              "2  NaN NaN  13  18.0\n",
              "3  4.0 NaN  14  19.0\n",
              "4  NaN NaN  15  20.0"
            ]
          },
          "execution_count": 48,
          "metadata": {},
          "output_type": "execute_result"
        }
      ],
      "source": [
        "df"
      ]
    },
    {
      "cell_type": "markdown",
      "metadata": {
        "id": "hzzuisEyij9T"
      },
      "source": [
        "Forward fill"
      ]
    },
    {
      "cell_type": "code",
      "execution_count": 17,
      "metadata": {
        "colab": {
          "base_uri": "https://localhost:8080/"
        },
        "id": "Cd1ok8pfij9U",
        "outputId": "ec8de7e4-8ac0-420d-bf0c-98ed9bbf7ef0"
      },
      "outputs": [
        {
          "output_type": "stream",
          "name": "stdout",
          "text": [
            "     M   N   O     P\n",
            "0  1.0  11 NaN  16.0\n",
            "1  2.0  12 NaN  18.0\n",
            "2  4.0  13 NaN  18.0\n",
            "3  4.0  14 NaN  19.0\n",
            "4  NaN  15 NaN  20.0\n"
          ]
        }
      ],
      "source": [
        "#code here\n",
        "import numpy as np\n",
        "import pandas as pd\n",
        "data_dic = {'M':[1,2,np.nan,4,np.nan],\n",
        "            'N':[11,12,13,14,15],\n",
        "            'O':[np.nan,np.nan,np.nan,np.nan,np.nan],\n",
        "            'P':[16,np.nan,18,19,20]}\n",
        "df = pd.DataFrame(data_dic)\n",
        "df_bfill = df.bfill()\n",
        "print(df_bfill)"
      ]
    },
    {
      "cell_type": "code",
      "execution_count": null,
      "metadata": {
        "scrolled": true,
        "id": "Yg8rhXpLij9U",
        "outputId": "c3a97b92-e9fa-4d9b-df9e-500768241800"
      },
      "outputs": [
        {
          "data": {
            "text/html": [
              "<div>\n",
              "<style scoped>\n",
              "    .dataframe tbody tr th:only-of-type {\n",
              "        vertical-align: middle;\n",
              "    }\n",
              "\n",
              "    .dataframe tbody tr th {\n",
              "        vertical-align: top;\n",
              "    }\n",
              "\n",
              "    .dataframe thead th {\n",
              "        text-align: right;\n",
              "    }\n",
              "</style>\n",
              "<table border=\"1\" class=\"dataframe\">\n",
              "  <thead>\n",
              "    <tr style=\"text-align: right;\">\n",
              "      <th></th>\n",
              "      <th>M</th>\n",
              "      <th>N</th>\n",
              "      <th>O</th>\n",
              "      <th>P</th>\n",
              "    </tr>\n",
              "  </thead>\n",
              "  <tbody>\n",
              "    <tr>\n",
              "      <th>0</th>\n",
              "      <td>1.0</td>\n",
              "      <td>11</td>\n",
              "      <td>NaN</td>\n",
              "      <td>16.0</td>\n",
              "    </tr>\n",
              "    <tr>\n",
              "      <th>1</th>\n",
              "      <td>2.0</td>\n",
              "      <td>12</td>\n",
              "      <td>NaN</td>\n",
              "      <td>16.0</td>\n",
              "    </tr>\n",
              "    <tr>\n",
              "      <th>2</th>\n",
              "      <td>2.0</td>\n",
              "      <td>13</td>\n",
              "      <td>NaN</td>\n",
              "      <td>18.0</td>\n",
              "    </tr>\n",
              "    <tr>\n",
              "      <th>3</th>\n",
              "      <td>4.0</td>\n",
              "      <td>14</td>\n",
              "      <td>NaN</td>\n",
              "      <td>19.0</td>\n",
              "    </tr>\n",
              "    <tr>\n",
              "      <th>4</th>\n",
              "      <td>4.0</td>\n",
              "      <td>15</td>\n",
              "      <td>NaN</td>\n",
              "      <td>20.0</td>\n",
              "    </tr>\n",
              "  </tbody>\n",
              "</table>\n",
              "</div>"
            ],
            "text/plain": [
              "     M   N   O     P\n",
              "0  1.0  11 NaN  16.0\n",
              "1  2.0  12 NaN  16.0\n",
              "2  2.0  13 NaN  18.0\n",
              "3  4.0  14 NaN  19.0\n",
              "4  4.0  15 NaN  20.0"
            ]
          },
          "execution_count": 16,
          "metadata": {},
          "output_type": "execute_result"
        }
      ],
      "source": []
    },
    {
      "cell_type": "markdown",
      "metadata": {
        "id": "togFTM3yij9U"
      },
      "source": [
        "**Make this dataframe using Dictionary**"
      ]
    },
    {
      "cell_type": "code",
      "execution_count": 19,
      "metadata": {
        "colab": {
          "base_uri": "https://localhost:8080/"
        },
        "id": "3btnMM01ij9U",
        "outputId": "a7946bb4-06cc-4006-d987-196058f1cd65"
      },
      "outputs": [
        {
          "output_type": "stream",
          "name": "stdout",
          "text": [
            "  key  A1  B1  A2  B2\n",
            "0   a   0   5   0   3\n",
            "1   b   1   6   1   4\n",
            "2   c   2   7   2   5\n"
          ]
        }
      ],
      "source": [
        "#code here\n",
        "import numpy as np\n",
        "import pandas as pd\n",
        "data = {\n",
        "    'key': ['a', 'b', 'c'],\n",
        "    'A1': [0, 1, 2],\n",
        "    'B1': [5, 6, 7],\n",
        "    'A2': [0, 1, 2],\n",
        "    'B2': [3, 4, 5]\n",
        "}\n",
        "\n",
        "df1 = pd.DataFrame(data)\n",
        "print(df1)\n"
      ]
    },
    {
      "cell_type": "code",
      "execution_count": null,
      "metadata": {
        "id": "XnCw2J7uij9U",
        "outputId": "36c35a7b-6b71-4203-aee2-d0b0f5c470fe"
      },
      "outputs": [
        {
          "data": {
            "text/html": [
              "<div>\n",
              "<style scoped>\n",
              "    .dataframe tbody tr th:only-of-type {\n",
              "        vertical-align: middle;\n",
              "    }\n",
              "\n",
              "    .dataframe tbody tr th {\n",
              "        vertical-align: top;\n",
              "    }\n",
              "\n",
              "    .dataframe thead th {\n",
              "        text-align: right;\n",
              "    }\n",
              "</style>\n",
              "<table border=\"1\" class=\"dataframe\">\n",
              "  <thead>\n",
              "    <tr style=\"text-align: right;\">\n",
              "      <th></th>\n",
              "      <th>key</th>\n",
              "      <th>A1</th>\n",
              "      <th>B1</th>\n",
              "      <th>A2</th>\n",
              "      <th>B2</th>\n",
              "    </tr>\n",
              "  </thead>\n",
              "  <tbody>\n",
              "    <tr>\n",
              "      <th>0</th>\n",
              "      <td>a</td>\n",
              "      <td>0</td>\n",
              "      <td>5</td>\n",
              "      <td>0</td>\n",
              "      <td>3</td>\n",
              "    </tr>\n",
              "    <tr>\n",
              "      <th>1</th>\n",
              "      <td>b</td>\n",
              "      <td>1</td>\n",
              "      <td>6</td>\n",
              "      <td>1</td>\n",
              "      <td>4</td>\n",
              "    </tr>\n",
              "    <tr>\n",
              "      <th>2</th>\n",
              "      <td>c</td>\n",
              "      <td>2</td>\n",
              "      <td>7</td>\n",
              "      <td>2</td>\n",
              "      <td>5</td>\n",
              "    </tr>\n",
              "  </tbody>\n",
              "</table>\n",
              "</div>"
            ],
            "text/plain": [
              "  key  A1  B1  A2  B2\n",
              "0   a   0   5   0   3\n",
              "1   b   1   6   1   4\n",
              "2   c   2   7   2   5"
            ]
          },
          "execution_count": 19,
          "metadata": {},
          "output_type": "execute_result"
        }
      ],
      "source": [
        "df1"
      ]
    },
    {
      "cell_type": "code",
      "execution_count": null,
      "metadata": {
        "id": "nOOdrHuuij9U"
      },
      "outputs": [],
      "source": []
    }
  ],
  "metadata": {
    "kernelspec": {
      "display_name": "Python 3 (ipykernel)",
      "language": "python",
      "name": "python3"
    },
    "language_info": {
      "codemirror_mode": {
        "name": "ipython",
        "version": 3
      },
      "file_extension": ".py",
      "mimetype": "text/x-python",
      "name": "python",
      "nbconvert_exporter": "python",
      "pygments_lexer": "ipython3",
      "version": "3.11.5"
    },
    "colab": {
      "provenance": []
    }
  },
  "nbformat": 4,
  "nbformat_minor": 0
}